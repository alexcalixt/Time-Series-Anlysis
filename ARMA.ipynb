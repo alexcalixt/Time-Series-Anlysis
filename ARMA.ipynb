{
 "cells": [
  {
   "cell_type": "code",
   "execution_count": 1,
   "id": "5a66aee3",
   "metadata": {},
   "outputs": [],
   "source": [
    "import pandas as pd\n",
    "import numpy as np\n",
    "pd.options.display.float_format = '{:.2f}'.format\n",
    "import matplotlib.pyplot as plt\n",
    "import seaborn as sns\n",
    "sns.set()\n",
    "import scipy.stats\n",
    "import pylab\n",
    "import statsmodels.graphics.tsaplots as sgt\n",
    "import statsmodels.tsa.stattools as sts\n",
    "from statsmodels.tsa.seasonal import seasonal_decompose\n",
    "from pandas.plotting import autocorrelation_plot\n",
    "from statsmodels.tsa.arima.model import ARIMA\n",
    "import warnings\n",
    "warnings.filterwarnings('ignore')\n",
    "import yfinance as yf"
   ]
  },
  {
   "cell_type": "markdown",
   "id": "2b21b682",
   "metadata": {},
   "source": [
    "# Extract Data"
   ]
  },
  {
   "cell_type": "code",
   "execution_count": 2,
   "id": "383f7a25",
   "metadata": {},
   "outputs": [
    {
     "name": "stdout",
     "output_type": "stream",
     "text": [
      "[*********************100%***********************]  1 of 1 completed\n"
     ]
    }
   ],
   "source": [
    "# get stock data for apple\n",
    "data = yf.download('AAPL', start = '2015-01-01', end = '2021-01-01')"
   ]
  },
  {
   "cell_type": "markdown",
   "id": "c1065f2f",
   "metadata": {},
   "source": [
    "# Setting up raw data for analysis"
   ]
  },
  {
   "cell_type": "code",
   "execution_count": 3,
   "id": "855bac65",
   "metadata": {},
   "outputs": [],
   "source": [
    "#get only 'Adj Close','Volume'\n",
    "stock = data[['Adj Close','Volume']].copy()"
   ]
  },
  {
   "cell_type": "code",
   "execution_count": 4,
   "id": "b9ac52ec",
   "metadata": {},
   "outputs": [],
   "source": [
    "#set higher frequency to business days\n",
    "stock = stock.asfreq('b')"
   ]
  },
  {
   "cell_type": "markdown",
   "id": "f6e4fc22",
   "metadata": {},
   "source": [
    "# Create Returns"
   ]
  },
  {
   "cell_type": "markdown",
   "id": "702c11d4",
   "metadata": {},
   "source": [
    "Data already inspected in AR and MA models. It was concluded that return was the best process."
   ]
  },
  {
   "cell_type": "code",
   "execution_count": 5,
   "id": "928b26b7",
   "metadata": {},
   "outputs": [],
   "source": [
    "# Using Returns\n",
    "stock_r = stock['Adj Close'].pct_change(1).mul(100)\n",
    "stock_r = stock_r.iloc[1:]\n",
    "stock_r = stock_r.asfreq('b')\n",
    "stock_r = stock_r.to_frame('returns')"
   ]
  },
  {
   "cell_type": "markdown",
   "id": "56c3b78d",
   "metadata": {},
   "source": [
    "# Fitting Model"
   ]
  },
  {
   "cell_type": "code",
   "execution_count": 9,
   "id": "d4ae9880",
   "metadata": {},
   "outputs": [],
   "source": [
    "#LLR (Log Likely Ratio) Test\n",
    "from scipy.stats import chi2\n",
    "def LLR_Test(mod_1, mod_2, DF = 1):\n",
    "    L1 = mod_1.fit().llf\n",
    "    L2 = mod_2.fit().llf\n",
    "    LR = (2*(L2 - L1))\n",
    "    P = chi2.sf(LR, DF).round(3)\n",
    "    return P"
   ]
  },
  {
   "cell_type": "code",
   "execution_count": 21,
   "id": "6a0ca247",
   "metadata": {},
   "outputs": [
    {
     "name": "stdout",
     "output_type": "stream",
     "text": [
      "                               SARIMAX Results                                \n",
      "==============================================================================\n",
      "Dep. Variable:                returns   No. Observations:                 1564\n",
      "Model:                 ARIMA(1, 0, 1)   Log Likelihood               -3159.299\n",
      "Date:                Tue, 02 Nov 2021   AIC                           6326.599\n",
      "Time:                        21:38:38   BIC                           6348.019\n",
      "Sample:                    01-05-2015   HQIC                          6334.562\n",
      "                         - 12-31-2020                                         \n",
      "Covariance Type:                  opg                                         \n",
      "==============================================================================\n",
      "                 coef    std err          z      P>|z|      [0.025      0.975]\n",
      "------------------------------------------------------------------------------\n",
      "const          0.1241      0.043      2.891      0.004       0.040       0.208\n",
      "ar.L1         -0.0081      0.150     -0.054      0.957      -0.302       0.285\n",
      "ma.L1         -0.0948      0.153     -0.618      0.537      -0.395       0.206\n",
      "sigma2         3.3272      0.062     53.803      0.000       3.206       3.448\n",
      "===================================================================================\n",
      "Ljung-Box (L1) (Q):                   0.00   Jarque-Bera (JB):              2575.89\n",
      "Prob(Q):                              1.00   Prob(JB):                         0.00\n",
      "Heteroskedasticity (H):               2.17   Skew:                            -0.13\n",
      "Prob(H) (two-sided):                  0.00   Kurtosis:                         9.28\n",
      "===================================================================================\n",
      "\n",
      "Warnings:\n",
      "[1] Covariance matrix calculated using the outer product of gradients (complex-step).\n"
     ]
    }
   ],
   "source": [
    "#P & D = 0 and q <> 0 makes ARIMA into MA model\n",
    "model_arma_1 = ARIMA(stock_r, order = (1,0,1))\n",
    "results_arma_1 = model_arma_1.fit()\n",
    "print(results_arma_1.summary())"
   ]
  },
  {
   "cell_type": "markdown",
   "id": "6e0dfee3",
   "metadata": {},
   "source": [
    "# Test if ARMA performs better than AR and MA"
   ]
  },
  {
   "cell_type": "code",
   "execution_count": 43,
   "id": "4145fdbe",
   "metadata": {},
   "outputs": [],
   "source": [
    "model_ar_1 = ARIMA(stock_r, order = (1,0,0))\n",
    "results_ar_1 = model_ar_1.fit()\n",
    "model_ma_1 = ARIMA(stock_r, order = (0,0,1))\n",
    "results_ma_1 = model_ma_1.fit()"
   ]
  },
  {
   "cell_type": "code",
   "execution_count": 24,
   "id": "b9c330cc",
   "metadata": {
    "scrolled": true
   },
   "outputs": [
    {
     "name": "stdout",
     "output_type": "stream",
     "text": [
      "ARMA vs AR 0.738\n",
      "ARMA vs MA 0.974\n"
     ]
    }
   ],
   "source": [
    "print('ARMA vs AR',LLR_Test(model_ar_1,model_arma_1))\n",
    "print('ARMA vs MA',LLR_Test(model_ma_1,model_arma_1))"
   ]
  },
  {
   "cell_type": "code",
   "execution_count": 62,
   "id": "ecaaca99",
   "metadata": {},
   "outputs": [
    {
     "name": "stdout",
     "output_type": "stream",
     "text": [
      "\n",
      " ARMA \tLL = -3159.2993576816766 \tARMA \tAIC = 6326.598715363353\n",
      "\n",
      " AR \tLL = -3159.3553606810055 \tAR \tAIC = 6324.710721362011\n",
      "\n",
      " MA \tLL = -3159.299904010827 \tMA \tAIC = 6324.599808021654\n"
     ]
    }
   ],
   "source": [
    "print('\\n ARMA \\tLL =',results_arma_1.llf,'\\tARMA \\tAIC =',results_arma_1.aic)\n",
    "print('\\n AR \\tLL =',results_ar_1.llf,'\\tAR \\tAIC =',results_ar_1.aic)\n",
    "print('\\n MA \\tLL =',results_ma_1.llf,'\\tMA \\tAIC =',results_ma_1.aic)"
   ]
  },
  {
   "cell_type": "markdown",
   "id": "6e9cc396",
   "metadata": {},
   "source": [
    "# Model Selection"
   ]
  },
  {
   "cell_type": "code",
   "execution_count": null,
   "id": "cf2748ad",
   "metadata": {},
   "outputs": [],
   "source": []
  }
 ],
 "metadata": {
  "kernelspec": {
   "display_name": "Python 3",
   "language": "python",
   "name": "python3"
  },
  "language_info": {
   "codemirror_mode": {
    "name": "ipython",
    "version": 3
   },
   "file_extension": ".py",
   "mimetype": "text/x-python",
   "name": "python",
   "nbconvert_exporter": "python",
   "pygments_lexer": "ipython3",
   "version": "3.8.8"
  }
 },
 "nbformat": 4,
 "nbformat_minor": 5
}
